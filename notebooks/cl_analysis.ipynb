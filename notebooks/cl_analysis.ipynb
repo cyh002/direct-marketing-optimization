{
 "cells": [
  {
   "cell_type": "code",
   "execution_count": null,
   "id": "b2cbab41",
   "metadata": {},
   "outputs": [],
   "source": [
    "%load_ext autoreload\n",
    "%autoreload 2\n",
    "import os\n",
    "import numpy as np\n",
    "import pandas as pd\n",
    "import matplotlib.pyplot as plt\n",
    "import seaborn as sns"
   ]
  }
 ],
 "metadata": {
  "language_info": {
   "name": "python"
  }
 },
 "nbformat": 4,
 "nbformat_minor": 5
}
